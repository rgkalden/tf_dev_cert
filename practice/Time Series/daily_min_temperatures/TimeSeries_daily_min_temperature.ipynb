{
  "nbformat": 4,
  "nbformat_minor": 0,
  "metadata": {
    "colab": {
      "name": "TimeSeries_daily_min_temperature.ipynb",
      "provenance": [],
      "collapsed_sections": []
    },
    "kernelspec": {
      "name": "python3",
      "display_name": "Python 3"
    },
    "language_info": {
      "name": "python"
    },
    "accelerator": "GPU"
  },
  "cells": [
    {
      "cell_type": "code",
      "execution_count": 1,
      "metadata": {
        "id": "fGAs8LRrET07"
      },
      "outputs": [],
      "source": [
        "import numpy as np\n",
        "import pandas as pd\n",
        "import tensorflow as tf"
      ]
    },
    {
      "cell_type": "code",
      "source": [
        "df = pd.read_csv('daily-min-temperatures.csv')\n",
        "df.head()"
      ],
      "metadata": {
        "colab": {
          "base_uri": "https://localhost:8080/",
          "height": 206
        },
        "id": "lEdWBJw9EgRT",
        "outputId": "cc09a984-1048-4034-893b-e9a20c82dd1a"
      },
      "execution_count": 2,
      "outputs": [
        {
          "output_type": "execute_result",
          "data": {
            "text/plain": [
              "         Date  Temp\n",
              "0  1981-01-01  20.7\n",
              "1  1981-01-02  17.9\n",
              "2  1981-01-03  18.8\n",
              "3  1981-01-04  14.6\n",
              "4  1981-01-05  15.8"
            ],
            "text/html": [
              "\n",
              "  <div id=\"df-aeb3331e-feec-4e31-8924-2a2ace05cbe5\">\n",
              "    <div class=\"colab-df-container\">\n",
              "      <div>\n",
              "<style scoped>\n",
              "    .dataframe tbody tr th:only-of-type {\n",
              "        vertical-align: middle;\n",
              "    }\n",
              "\n",
              "    .dataframe tbody tr th {\n",
              "        vertical-align: top;\n",
              "    }\n",
              "\n",
              "    .dataframe thead th {\n",
              "        text-align: right;\n",
              "    }\n",
              "</style>\n",
              "<table border=\"1\" class=\"dataframe\">\n",
              "  <thead>\n",
              "    <tr style=\"text-align: right;\">\n",
              "      <th></th>\n",
              "      <th>Date</th>\n",
              "      <th>Temp</th>\n",
              "    </tr>\n",
              "  </thead>\n",
              "  <tbody>\n",
              "    <tr>\n",
              "      <th>0</th>\n",
              "      <td>1981-01-01</td>\n",
              "      <td>20.7</td>\n",
              "    </tr>\n",
              "    <tr>\n",
              "      <th>1</th>\n",
              "      <td>1981-01-02</td>\n",
              "      <td>17.9</td>\n",
              "    </tr>\n",
              "    <tr>\n",
              "      <th>2</th>\n",
              "      <td>1981-01-03</td>\n",
              "      <td>18.8</td>\n",
              "    </tr>\n",
              "    <tr>\n",
              "      <th>3</th>\n",
              "      <td>1981-01-04</td>\n",
              "      <td>14.6</td>\n",
              "    </tr>\n",
              "    <tr>\n",
              "      <th>4</th>\n",
              "      <td>1981-01-05</td>\n",
              "      <td>15.8</td>\n",
              "    </tr>\n",
              "  </tbody>\n",
              "</table>\n",
              "</div>\n",
              "      <button class=\"colab-df-convert\" onclick=\"convertToInteractive('df-aeb3331e-feec-4e31-8924-2a2ace05cbe5')\"\n",
              "              title=\"Convert this dataframe to an interactive table.\"\n",
              "              style=\"display:none;\">\n",
              "        \n",
              "  <svg xmlns=\"http://www.w3.org/2000/svg\" height=\"24px\"viewBox=\"0 0 24 24\"\n",
              "       width=\"24px\">\n",
              "    <path d=\"M0 0h24v24H0V0z\" fill=\"none\"/>\n",
              "    <path d=\"M18.56 5.44l.94 2.06.94-2.06 2.06-.94-2.06-.94-.94-2.06-.94 2.06-2.06.94zm-11 1L8.5 8.5l.94-2.06 2.06-.94-2.06-.94L8.5 2.5l-.94 2.06-2.06.94zm10 10l.94 2.06.94-2.06 2.06-.94-2.06-.94-.94-2.06-.94 2.06-2.06.94z\"/><path d=\"M17.41 7.96l-1.37-1.37c-.4-.4-.92-.59-1.43-.59-.52 0-1.04.2-1.43.59L10.3 9.45l-7.72 7.72c-.78.78-.78 2.05 0 2.83L4 21.41c.39.39.9.59 1.41.59.51 0 1.02-.2 1.41-.59l7.78-7.78 2.81-2.81c.8-.78.8-2.07 0-2.86zM5.41 20L4 18.59l7.72-7.72 1.47 1.35L5.41 20z\"/>\n",
              "  </svg>\n",
              "      </button>\n",
              "      \n",
              "  <style>\n",
              "    .colab-df-container {\n",
              "      display:flex;\n",
              "      flex-wrap:wrap;\n",
              "      gap: 12px;\n",
              "    }\n",
              "\n",
              "    .colab-df-convert {\n",
              "      background-color: #E8F0FE;\n",
              "      border: none;\n",
              "      border-radius: 50%;\n",
              "      cursor: pointer;\n",
              "      display: none;\n",
              "      fill: #1967D2;\n",
              "      height: 32px;\n",
              "      padding: 0 0 0 0;\n",
              "      width: 32px;\n",
              "    }\n",
              "\n",
              "    .colab-df-convert:hover {\n",
              "      background-color: #E2EBFA;\n",
              "      box-shadow: 0px 1px 2px rgba(60, 64, 67, 0.3), 0px 1px 3px 1px rgba(60, 64, 67, 0.15);\n",
              "      fill: #174EA6;\n",
              "    }\n",
              "\n",
              "    [theme=dark] .colab-df-convert {\n",
              "      background-color: #3B4455;\n",
              "      fill: #D2E3FC;\n",
              "    }\n",
              "\n",
              "    [theme=dark] .colab-df-convert:hover {\n",
              "      background-color: #434B5C;\n",
              "      box-shadow: 0px 1px 3px 1px rgba(0, 0, 0, 0.15);\n",
              "      filter: drop-shadow(0px 1px 2px rgba(0, 0, 0, 0.3));\n",
              "      fill: #FFFFFF;\n",
              "    }\n",
              "  </style>\n",
              "\n",
              "      <script>\n",
              "        const buttonEl =\n",
              "          document.querySelector('#df-aeb3331e-feec-4e31-8924-2a2ace05cbe5 button.colab-df-convert');\n",
              "        buttonEl.style.display =\n",
              "          google.colab.kernel.accessAllowed ? 'block' : 'none';\n",
              "\n",
              "        async function convertToInteractive(key) {\n",
              "          const element = document.querySelector('#df-aeb3331e-feec-4e31-8924-2a2ace05cbe5');\n",
              "          const dataTable =\n",
              "            await google.colab.kernel.invokeFunction('convertToInteractive',\n",
              "                                                     [key], {});\n",
              "          if (!dataTable) return;\n",
              "\n",
              "          const docLinkHtml = 'Like what you see? Visit the ' +\n",
              "            '<a target=\"_blank\" href=https://colab.research.google.com/notebooks/data_table.ipynb>data table notebook</a>'\n",
              "            + ' to learn more about interactive tables.';\n",
              "          element.innerHTML = '';\n",
              "          dataTable['output_type'] = 'display_data';\n",
              "          await google.colab.output.renderOutput(dataTable, element);\n",
              "          const docLink = document.createElement('div');\n",
              "          docLink.innerHTML = docLinkHtml;\n",
              "          element.appendChild(docLink);\n",
              "        }\n",
              "      </script>\n",
              "    </div>\n",
              "  </div>\n",
              "  "
            ]
          },
          "metadata": {},
          "execution_count": 2
        }
      ]
    },
    {
      "cell_type": "code",
      "source": [
        "#print(df['Temp'][:31].values)"
      ],
      "metadata": {
        "colab": {
          "base_uri": "https://localhost:8080/"
        },
        "id": "8-uZMzJOKa8l",
        "outputId": "870d0c98-e437-4e82-fbe6-d3e1114d2c5b"
      },
      "execution_count": 3,
      "outputs": [
        {
          "output_type": "stream",
          "name": "stdout",
          "text": [
            "[20.7 17.9 18.8 14.6 15.8 15.8 15.8 17.4 21.8 20.  16.2 13.3 16.7 21.5\n",
            " 25.  20.7 20.6 24.8 17.7 15.5 18.2 12.1 14.4 16.  16.5 18.7 19.4 17.2\n",
            " 15.5 15.1 15.4]\n"
          ]
        }
      ]
    },
    {
      "cell_type": "code",
      "source": [
        "time_steps = df.index.values\n",
        "series = df['Temp'].values"
      ],
      "metadata": {
        "id": "R30pFztoE7Bn"
      },
      "execution_count": 4,
      "outputs": []
    },
    {
      "cell_type": "code",
      "source": [
        "print(len(time_steps))"
      ],
      "metadata": {
        "colab": {
          "base_uri": "https://localhost:8080/"
        },
        "id": "x8pzA3_DFBHR",
        "outputId": "84caa3b0-3964-417c-dd5d-ec913c94d528"
      },
      "execution_count": 5,
      "outputs": [
        {
          "output_type": "stream",
          "name": "stdout",
          "text": [
            "3650\n"
          ]
        }
      ]
    },
    {
      "cell_type": "code",
      "source": [
        "split_time = int(len(time_steps) * 0.7)\n",
        "print(split_time)\n",
        "\n",
        "train_series = series[:split_time]\n",
        "train_time = time_steps[:split_time]\n",
        "\n",
        "val_series = series[split_time:]\n",
        "val_time = time_steps[split_time:]"
      ],
      "metadata": {
        "colab": {
          "base_uri": "https://localhost:8080/"
        },
        "id": "A9kEg_SVFW0x",
        "outputId": "9d3164a0-7097-4e03-f463-64902b6725ed"
      },
      "execution_count": 6,
      "outputs": [
        {
          "output_type": "stream",
          "name": "stdout",
          "text": [
            "2555\n"
          ]
        }
      ]
    },
    {
      "cell_type": "code",
      "source": [
        "from tensorflow.keras.utils import timeseries_dataset_from_array\n",
        "\n",
        "batch_size = 32\n",
        "window_size = 30\n",
        "\n",
        "train_data = timeseries_dataset_from_array(data=train_series[:-window_size],\n",
        "                                           targets=train_series[window_size:],\n",
        "                                           sequence_length=window_size,\n",
        "                                           batch_size=batch_size,\n",
        "                                           shuffle=False)\n",
        "\n",
        "val_data = timeseries_dataset_from_array(data=val_series[:-window_size],\n",
        "                                         targets=val_series[window_size:],\n",
        "                                         sequence_length=window_size,\n",
        "                                         batch_size=batch_size,\n",
        "                                         shuffle=False)"
      ],
      "metadata": {
        "id": "TgTkccWYG0hs"
      },
      "execution_count": 7,
      "outputs": []
    },
    {
      "cell_type": "code",
      "source": [
        "# view first batch of window/target pairs from tensor dataset\n",
        "\n",
        "#for window, target in train_data:\n",
        "#  print(window)\n",
        "#  print(target)\n",
        "#  break"
      ],
      "metadata": {
        "id": "z7N048WUHZ2T"
      },
      "execution_count": 59,
      "outputs": []
    },
    {
      "cell_type": "code",
      "source": [
        "model = tf.keras.models.Sequential([\n",
        "                tf.keras.layers.LSTM(64, input_shape=(window_size, 1), return_sequences=True),\n",
        "                tf.keras.layers.LSTM(64),\n",
        "                tf.keras.layers.Dense(64, activation='relu'),\n",
        "                tf.keras.layers.Dense(32, activation='relu'),\n",
        "                tf.keras.layers.Dense(1, activation='relu')\n",
        "])\n",
        "\n",
        "model.summary()"
      ],
      "metadata": {
        "colab": {
          "base_uri": "https://localhost:8080/"
        },
        "id": "kcdRdebANX17",
        "outputId": "a16a9234-7576-4597-dc14-aeb9f2cbd7ea"
      },
      "execution_count": 19,
      "outputs": [
        {
          "output_type": "stream",
          "name": "stdout",
          "text": [
            "Model: \"sequential_4\"\n",
            "_________________________________________________________________\n",
            " Layer (type)                Output Shape              Param #   \n",
            "=================================================================\n",
            " lstm_6 (LSTM)               (None, 30, 64)            16896     \n",
            "                                                                 \n",
            " lstm_7 (LSTM)               (None, 64)                33024     \n",
            "                                                                 \n",
            " dense_8 (Dense)             (None, 64)                4160      \n",
            "                                                                 \n",
            " dense_9 (Dense)             (None, 32)                2080      \n",
            "                                                                 \n",
            " dense_10 (Dense)            (None, 1)                 33        \n",
            "                                                                 \n",
            "=================================================================\n",
            "Total params: 56,193\n",
            "Trainable params: 56,193\n",
            "Non-trainable params: 0\n",
            "_________________________________________________________________\n"
          ]
        }
      ]
    },
    {
      "cell_type": "code",
      "source": [
        "model.compile(optimizer='adam',\n",
        "              loss='mse',\n",
        "              metrics=['mae'])"
      ],
      "metadata": {
        "id": "0KUhww2ZOt5s"
      },
      "execution_count": 21,
      "outputs": []
    },
    {
      "cell_type": "code",
      "source": [
        "lr_schedule = tf.keras.callbacks.LearningRateScheduler(\n",
        "    lambda epoch: 1e-8 * 10**(epoch / 20))"
      ],
      "metadata": {
        "id": "ndc25SSiRU7d"
      },
      "execution_count": 22,
      "outputs": []
    },
    {
      "cell_type": "code",
      "source": [
        "history = model.fit(train_data,\n",
        "                    validation_data=val_data,\n",
        "                    epochs=30,\n",
        "                    callbacks=lr_schedule)"
      ],
      "metadata": {
        "colab": {
          "base_uri": "https://localhost:8080/"
        },
        "id": "wyWjXQVSQTGj",
        "outputId": "a983985d-98b5-452a-9ac1-533d25ce806d"
      },
      "execution_count": 23,
      "outputs": [
        {
          "output_type": "stream",
          "name": "stdout",
          "text": [
            "Epoch 1/30\n",
            "78/78 [==============================] - 8s 41ms/step - loss: 6.1037 - mae: 1.9303 - val_loss: 5.3698 - val_mae: 1.8338 - lr: 1.0000e-08\n",
            "Epoch 2/30\n",
            "78/78 [==============================] - 2s 29ms/step - loss: 6.1036 - mae: 1.9303 - val_loss: 5.3696 - val_mae: 1.8337 - lr: 1.1220e-08\n",
            "Epoch 3/30\n",
            "78/78 [==============================] - 2s 29ms/step - loss: 6.1034 - mae: 1.9303 - val_loss: 5.3694 - val_mae: 1.8337 - lr: 1.2589e-08\n",
            "Epoch 4/30\n",
            "78/78 [==============================] - 2s 29ms/step - loss: 6.1032 - mae: 1.9302 - val_loss: 5.3691 - val_mae: 1.8336 - lr: 1.4125e-08\n",
            "Epoch 5/30\n",
            "78/78 [==============================] - 2s 30ms/step - loss: 6.1029 - mae: 1.9302 - val_loss: 5.3688 - val_mae: 1.8336 - lr: 1.5849e-08\n",
            "Epoch 6/30\n",
            "78/78 [==============================] - 2s 29ms/step - loss: 6.1026 - mae: 1.9301 - val_loss: 5.3684 - val_mae: 1.8335 - lr: 1.7783e-08\n",
            "Epoch 7/30\n",
            "78/78 [==============================] - 2s 29ms/step - loss: 6.1023 - mae: 1.9301 - val_loss: 5.3679 - val_mae: 1.8334 - lr: 1.9953e-08\n",
            "Epoch 8/30\n",
            "78/78 [==============================] - 2s 29ms/step - loss: 6.1019 - mae: 1.9300 - val_loss: 5.3674 - val_mae: 1.8333 - lr: 2.2387e-08\n",
            "Epoch 9/30\n",
            "78/78 [==============================] - 2s 28ms/step - loss: 6.1015 - mae: 1.9299 - val_loss: 5.3668 - val_mae: 1.8332 - lr: 2.5119e-08\n",
            "Epoch 10/30\n",
            "78/78 [==============================] - 2s 30ms/step - loss: 6.1010 - mae: 1.9298 - val_loss: 5.3662 - val_mae: 1.8330 - lr: 2.8184e-08\n",
            "Epoch 11/30\n",
            "78/78 [==============================] - 2s 28ms/step - loss: 6.1004 - mae: 1.9297 - val_loss: 5.3654 - val_mae: 1.8329 - lr: 3.1623e-08\n",
            "Epoch 12/30\n",
            "78/78 [==============================] - 2s 29ms/step - loss: 6.0998 - mae: 1.9296 - val_loss: 5.3646 - val_mae: 1.8327 - lr: 3.5481e-08\n",
            "Epoch 13/30\n",
            "78/78 [==============================] - 2s 29ms/step - loss: 6.0991 - mae: 1.9294 - val_loss: 5.3636 - val_mae: 1.8325 - lr: 3.9811e-08\n",
            "Epoch 14/30\n",
            "78/78 [==============================] - 2s 29ms/step - loss: 6.0983 - mae: 1.9293 - val_loss: 5.3626 - val_mae: 1.8323 - lr: 4.4668e-08\n",
            "Epoch 15/30\n",
            "78/78 [==============================] - 2s 29ms/step - loss: 6.0974 - mae: 1.9291 - val_loss: 5.3614 - val_mae: 1.8321 - lr: 5.0119e-08\n",
            "Epoch 16/30\n",
            "78/78 [==============================] - 2s 29ms/step - loss: 6.0964 - mae: 1.9289 - val_loss: 5.3601 - val_mae: 1.8318 - lr: 5.6234e-08\n",
            "Epoch 17/30\n",
            "78/78 [==============================] - 2s 28ms/step - loss: 6.0954 - mae: 1.9287 - val_loss: 5.3587 - val_mae: 1.8315 - lr: 6.3096e-08\n",
            "Epoch 18/30\n",
            "78/78 [==============================] - 3s 35ms/step - loss: 6.0941 - mae: 1.9285 - val_loss: 5.3571 - val_mae: 1.8312 - lr: 7.0795e-08\n",
            "Epoch 19/30\n",
            "78/78 [==============================] - 3s 38ms/step - loss: 6.0928 - mae: 1.9282 - val_loss: 5.3553 - val_mae: 1.8308 - lr: 7.9433e-08\n",
            "Epoch 20/30\n",
            "78/78 [==============================] - 2s 28ms/step - loss: 6.0913 - mae: 1.9280 - val_loss: 5.3533 - val_mae: 1.8304 - lr: 8.9125e-08\n",
            "Epoch 21/30\n",
            "78/78 [==============================] - 2s 29ms/step - loss: 6.0897 - mae: 1.9276 - val_loss: 5.3511 - val_mae: 1.8299 - lr: 1.0000e-07\n",
            "Epoch 22/30\n",
            "78/78 [==============================] - 2s 29ms/step - loss: 6.0879 - mae: 1.9273 - val_loss: 5.3487 - val_mae: 1.8294 - lr: 1.1220e-07\n",
            "Epoch 23/30\n",
            "78/78 [==============================] - 2s 28ms/step - loss: 6.0859 - mae: 1.9269 - val_loss: 5.3460 - val_mae: 1.8289 - lr: 1.2589e-07\n",
            "Epoch 24/30\n",
            "78/78 [==============================] - 2s 29ms/step - loss: 6.0837 - mae: 1.9265 - val_loss: 5.3431 - val_mae: 1.8283 - lr: 1.4125e-07\n",
            "Epoch 25/30\n",
            "78/78 [==============================] - 2s 29ms/step - loss: 6.0812 - mae: 1.9260 - val_loss: 5.3399 - val_mae: 1.8276 - lr: 1.5849e-07\n",
            "Epoch 26/30\n",
            "78/78 [==============================] - 2s 29ms/step - loss: 6.0786 - mae: 1.9255 - val_loss: 5.3363 - val_mae: 1.8268 - lr: 1.7783e-07\n",
            "Epoch 27/30\n",
            "78/78 [==============================] - 2s 29ms/step - loss: 6.0757 - mae: 1.9250 - val_loss: 5.3325 - val_mae: 1.8260 - lr: 1.9953e-07\n",
            "Epoch 28/30\n",
            "78/78 [==============================] - 2s 30ms/step - loss: 6.0725 - mae: 1.9244 - val_loss: 5.3283 - val_mae: 1.8251 - lr: 2.2387e-07\n",
            "Epoch 29/30\n",
            "78/78 [==============================] - 2s 30ms/step - loss: 6.0691 - mae: 1.9238 - val_loss: 5.3237 - val_mae: 1.8241 - lr: 2.5119e-07\n",
            "Epoch 30/30\n",
            "78/78 [==============================] - 2s 29ms/step - loss: 6.0654 - mae: 1.9231 - val_loss: 5.3187 - val_mae: 1.8231 - lr: 2.8184e-07\n"
          ]
        }
      ]
    },
    {
      "cell_type": "code",
      "source": [
        "lr = history.history['lr'][-1]"
      ],
      "metadata": {
        "id": "cntskUKBRv9O"
      },
      "execution_count": 26,
      "outputs": []
    },
    {
      "cell_type": "code",
      "source": [
        "model.compile(optimizer=tf.keras.optimizers.Adam(learning_rate=lr),\n",
        "              loss='mse',\n",
        "              metrics=['mae'])\n",
        "\n",
        "history2 = model.fit(train_data,\n",
        "                    validation_data=val_data,\n",
        "                    epochs=30)"
      ],
      "metadata": {
        "colab": {
          "base_uri": "https://localhost:8080/"
        },
        "id": "BZPUAqcXSN6u",
        "outputId": "a4c5b1f4-a40b-41ef-e546-c4f43887b05a"
      },
      "execution_count": 29,
      "outputs": [
        {
          "output_type": "stream",
          "name": "stdout",
          "text": [
            "Epoch 1/30\n"
          ]
        },
        {
          "output_type": "stream",
          "name": "stderr",
          "text": [
            "/usr/local/lib/python3.7/dist-packages/keras/optimizer_v2/adam.py:105: UserWarning: The `lr` argument is deprecated, use `learning_rate` instead.\n",
            "  super(Adam, self).__init__(name, **kwargs)\n"
          ]
        },
        {
          "output_type": "stream",
          "name": "stdout",
          "text": [
            "78/78 [==============================] - 11s 57ms/step - loss: 6.0570 - mae: 1.9215 - val_loss: 5.3082 - val_mae: 1.8208\n",
            "Epoch 2/30\n",
            "78/78 [==============================] - 3s 35ms/step - loss: 6.0538 - mae: 1.9209 - val_loss: 5.3040 - val_mae: 1.8199\n",
            "Epoch 3/30\n",
            "78/78 [==============================] - 3s 36ms/step - loss: 6.0505 - mae: 1.9203 - val_loss: 5.2997 - val_mae: 1.8189\n",
            "Epoch 4/30\n",
            "78/78 [==============================] - 3s 39ms/step - loss: 6.0473 - mae: 1.9197 - val_loss: 5.2957 - val_mae: 1.8180\n",
            "Epoch 5/30\n",
            "78/78 [==============================] - 3s 41ms/step - loss: 6.0443 - mae: 1.9191 - val_loss: 5.2917 - val_mae: 1.8172\n",
            "Epoch 6/30\n",
            "78/78 [==============================] - 3s 34ms/step - loss: 6.0413 - mae: 1.9185 - val_loss: 5.2878 - val_mae: 1.8163\n",
            "Epoch 7/30\n",
            "78/78 [==============================] - 2s 28ms/step - loss: 6.0385 - mae: 1.9179 - val_loss: 5.2842 - val_mae: 1.8155\n",
            "Epoch 8/30\n",
            "78/78 [==============================] - 2s 30ms/step - loss: 6.0357 - mae: 1.9174 - val_loss: 5.2806 - val_mae: 1.8147\n",
            "Epoch 9/30\n",
            "78/78 [==============================] - 2s 29ms/step - loss: 6.0331 - mae: 1.9169 - val_loss: 5.2772 - val_mae: 1.8140\n",
            "Epoch 10/30\n",
            "78/78 [==============================] - 2s 28ms/step - loss: 6.0306 - mae: 1.9164 - val_loss: 5.2738 - val_mae: 1.8133\n",
            "Epoch 11/30\n",
            "78/78 [==============================] - 2s 28ms/step - loss: 6.0282 - mae: 1.9159 - val_loss: 5.2706 - val_mae: 1.8126\n",
            "Epoch 12/30\n",
            "78/78 [==============================] - 2s 28ms/step - loss: 6.0258 - mae: 1.9155 - val_loss: 5.2676 - val_mae: 1.8119\n",
            "Epoch 13/30\n",
            "78/78 [==============================] - 2s 30ms/step - loss: 6.0236 - mae: 1.9150 - val_loss: 5.2646 - val_mae: 1.8113\n",
            "Epoch 14/30\n",
            "78/78 [==============================] - 2s 29ms/step - loss: 6.0215 - mae: 1.9146 - val_loss: 5.2617 - val_mae: 1.8107\n",
            "Epoch 15/30\n",
            "78/78 [==============================] - 2s 30ms/step - loss: 6.0194 - mae: 1.9142 - val_loss: 5.2589 - val_mae: 1.8101\n",
            "Epoch 16/30\n",
            "78/78 [==============================] - 2s 29ms/step - loss: 6.0174 - mae: 1.9138 - val_loss: 5.2562 - val_mae: 1.8095\n",
            "Epoch 17/30\n",
            "78/78 [==============================] - 2s 29ms/step - loss: 6.0155 - mae: 1.9134 - val_loss: 5.2536 - val_mae: 1.8090\n",
            "Epoch 18/30\n",
            "78/78 [==============================] - 2s 29ms/step - loss: 6.0137 - mae: 1.9131 - val_loss: 5.2511 - val_mae: 1.8085\n",
            "Epoch 19/30\n",
            "78/78 [==============================] - 2s 28ms/step - loss: 6.0119 - mae: 1.9127 - val_loss: 5.2487 - val_mae: 1.8080\n",
            "Epoch 20/30\n",
            "78/78 [==============================] - 2s 30ms/step - loss: 6.0102 - mae: 1.9124 - val_loss: 5.2464 - val_mae: 1.8075\n",
            "Epoch 21/30\n",
            "78/78 [==============================] - 2s 30ms/step - loss: 6.0086 - mae: 1.9121 - val_loss: 5.2441 - val_mae: 1.8070\n",
            "Epoch 22/30\n",
            "78/78 [==============================] - 2s 30ms/step - loss: 6.0070 - mae: 1.9118 - val_loss: 5.2419 - val_mae: 1.8065\n",
            "Epoch 23/30\n",
            "78/78 [==============================] - 2s 29ms/step - loss: 6.0054 - mae: 1.9115 - val_loss: 5.2398 - val_mae: 1.8061\n",
            "Epoch 24/30\n",
            "78/78 [==============================] - 2s 29ms/step - loss: 6.0040 - mae: 1.9113 - val_loss: 5.2378 - val_mae: 1.8057\n",
            "Epoch 25/30\n",
            "78/78 [==============================] - 2s 30ms/step - loss: 6.0026 - mae: 1.9110 - val_loss: 5.2358 - val_mae: 1.8053\n",
            "Epoch 26/30\n",
            "78/78 [==============================] - 2s 30ms/step - loss: 6.0012 - mae: 1.9108 - val_loss: 5.2338 - val_mae: 1.8049\n",
            "Epoch 27/30\n",
            "78/78 [==============================] - 2s 29ms/step - loss: 5.9999 - mae: 1.9105 - val_loss: 5.2320 - val_mae: 1.8045\n",
            "Epoch 28/30\n",
            "78/78 [==============================] - 2s 29ms/step - loss: 5.9986 - mae: 1.9103 - val_loss: 5.2302 - val_mae: 1.8041\n",
            "Epoch 29/30\n",
            "78/78 [==============================] - 2s 28ms/step - loss: 5.9973 - mae: 1.9101 - val_loss: 5.2284 - val_mae: 1.8037\n",
            "Epoch 30/30\n",
            "78/78 [==============================] - 2s 29ms/step - loss: 5.9961 - mae: 1.9099 - val_loss: 5.2267 - val_mae: 1.8034\n"
          ]
        }
      ]
    },
    {
      "cell_type": "code",
      "source": [
        "model.save('model.h5')"
      ],
      "metadata": {
        "id": "B-ONsYfkYa66"
      },
      "execution_count": 60,
      "outputs": []
    },
    {
      "cell_type": "code",
      "source": [
        "predictions = model.predict(val_data)\n",
        "predictions = predictions.reshape(1036,)"
      ],
      "metadata": {
        "id": "jYn8weghVW0F"
      },
      "execution_count": 67,
      "outputs": []
    },
    {
      "cell_type": "code",
      "source": [
        "val_targets = np.concatenate([target for window, target in val_data], axis=0)\n",
        "print(val_targets)\n",
        "print(predictions)\n",
        "\n",
        "mae = tf.keras.metrics.mean_absolute_error(val_targets, predictions).numpy()\n",
        "print('MAE:', mae)"
      ],
      "metadata": {
        "colab": {
          "base_uri": "https://localhost:8080/"
        },
        "id": "1QkmP5FmX6qf",
        "outputId": "5d0a4d23-c68e-4a17-ef3b-da4c4fd1822e"
      },
      "execution_count": 69,
      "outputs": [
        {
          "output_type": "stream",
          "name": "stdout",
          "text": [
            "[14.4 14.1 15.  ... 12.7 13.3 13.2]\n",
            "[17.476685 13.632198 14.061181 ... 13.152924 12.265321 13.047664]\n",
            "MAE: 1.8033723\n"
          ]
        }
      ]
    },
    {
      "cell_type": "code",
      "source": [
        "import matplotlib.pyplot as plt\n",
        "\n",
        "plt.figure(figsize=(12,4))\n",
        "plt.plot(val_targets, label='targets')\n",
        "plt.plot(predictions, label='predictions')\n",
        "plt.legend()\n",
        "plt.xlabel('Time Step')\n",
        "plt.ylabel('Temperature (C)')\n",
        "plt.title('Model Predictions on Val Set');"
      ],
      "metadata": {
        "colab": {
          "base_uri": "https://localhost:8080/",
          "height": 295
        },
        "id": "WeCTouUWZO04",
        "outputId": "fc777d23-065f-4280-c984-406e8f8dab69"
      },
      "execution_count": 93,
      "outputs": [
        {
          "output_type": "display_data",
          "data": {
            "text/plain": [
              "<Figure size 864x288 with 1 Axes>"
            ],
            "image/png": "[encoded data removed]"
          },
          "metadata": {
            "needs_background": "light"
          }
        }
      ]
    },
    {
      "cell_type": "code",
      "source": [
        ""
      ],
      "metadata": {
        "id": "9ez-mlrQhc8m"
      },
      "execution_count": null,
      "outputs": []
    }
  ]
}