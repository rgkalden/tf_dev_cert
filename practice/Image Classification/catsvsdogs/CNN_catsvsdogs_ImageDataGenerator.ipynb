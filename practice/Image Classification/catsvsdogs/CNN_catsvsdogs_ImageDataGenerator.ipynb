{
  "nbformat": 4,
  "nbformat_minor": 0,
  "metadata": {
    "colab": {
      "name": "CNN_catsvsdogs_ImageDataGenerator.ipynb",
      "provenance": [],
      "collapsed_sections": []
    },
    "kernelspec": {
      "name": "python3",
      "display_name": "Python 3"
    },
    "language_info": {
      "name": "python"
    },
    "accelerator": "GPU"
  },
  "cells": [
    {
      "cell_type": "code",
      "execution_count": 3,
      "metadata": {
        "id": "v5aC3wiWd6QF"
      },
      "outputs": [],
      "source": [
        "import numpy as np\n",
        "import tensorflow as tf\n",
        "import zipfile"
      ]
    },
    {
      "cell_type": "code",
      "source": [
        "# If the URL doesn't work, visit https://www.microsoft.com/en-us/download/confirmation.aspx?id=54765\n",
        "# And right click on the 'Download Manually' link to get a new URL to the dataset\n",
        "\n",
        "# Note: This is a very large dataset and will take some time to download\n",
        "\n",
        "!wget --no-check-certificate \\\n",
        "    \"https://download.microsoft.com/download/3/E/1/3E1C3F21-ECDB-4869-8368-6DEBA77B919F/kagglecatsanddogs_3367a.zip\" \\\n",
        "    -O \"/tmp/cats-and-dogs.zip\"\n",
        "\n",
        "local_zip = '/tmp/cats-and-dogs.zip'\n",
        "zip_ref   = zipfile.ZipFile(local_zip, 'r')\n",
        "zip_ref.extractall('/tmp')\n",
        "zip_ref.close()"
      ],
      "metadata": {
        "colab": {
          "base_uri": "https://localhost:8080/"
        },
        "id": "xkMH6-wJlR0_",
        "outputId": "3b7edc05-0e0a-4a98-9269-66d9d5b27ebd"
      },
      "execution_count": 4,
      "outputs": [
        {
          "output_type": "stream",
          "name": "stdout",
          "text": [
            "--2022-03-15 18:23:38--  https://download.microsoft.com/download/3/E/1/3E1C3F21-ECDB-4869-8368-6DEBA77B919F/kagglecatsanddogs_3367a.zip\n",
            "Resolving download.microsoft.com (download.microsoft.com)... 104.81.140.145, 2a02:26f0:6d00:6bf::e59, 2a02:26f0:6d00:688::e59\n",
            "Connecting to download.microsoft.com (download.microsoft.com)|104.81.140.145|:443... connected.\n",
            "HTTP request sent, awaiting response... 200 OK\n",
            "Length: 824894548 (787M) [application/octet-stream]\n",
            "Saving to: ‘/tmp/cats-and-dogs.zip’\n",
            "\n",
            "/tmp/cats-and-dogs. 100%[===================>] 786.68M   117MB/s    in 6.9s    \n",
            "\n",
            "2022-03-15 18:23:45 (114 MB/s) - ‘/tmp/cats-and-dogs.zip’ saved [824894548/824894548]\n",
            "\n"
          ]
        }
      ]
    },
    {
      "cell_type": "code",
      "source": [
        "import os\n",
        "\n",
        "source_path = '/tmp/PetImages'\n",
        "source_path_cats = os.path.join(source_path, 'Cat')\n",
        "source_path_dogs = os.path.join(source_path, 'Dog')\n",
        "\n",
        "print(len(os.listdir(source_path_cats)))\n",
        "print(len(os.listdir(source_path_dogs)))"
      ],
      "metadata": {
        "colab": {
          "base_uri": "https://localhost:8080/"
        },
        "id": "YCq1pwqrl0R2",
        "outputId": "f31b207e-d57b-4b13-f925-1c2f8af9cefd"
      },
      "execution_count": 5,
      "outputs": [
        {
          "output_type": "stream",
          "name": "stdout",
          "text": [
            "12501\n",
            "12501\n"
          ]
        }
      ]
    },
    {
      "cell_type": "code",
      "source": [
        "import shutil\n",
        "\n",
        "root_dir = '/tmp/cat_vs_dog'\n",
        "\n",
        "if os.path.exists(root_dir):\n",
        "  shutil.rmtree(root_dir)\n",
        "\n",
        "def create_train_test_dirs(root_path):\n",
        "  \n",
        "  os.makedirs(root_path + '/training')\n",
        "  os.makedirs(root_path + '/testing')\n",
        "  os.makedirs(root_path + '/training/cats')\n",
        "  os.makedirs(root_path + '/training/dogs')\n",
        "  os.makedirs(root_path + '/testing/cats')\n",
        "  os.makedirs(root_path + '/testing/dogs')\n",
        "\n",
        "create_train_test_dirs(root_dir)"
      ],
      "metadata": {
        "id": "2SyrxtM2maP6"
      },
      "execution_count": 7,
      "outputs": []
    },
    {
      "cell_type": "code",
      "source": [
        "import random\n",
        "from shutil import copyfile\n",
        "\n",
        "def split_data(SOURCE, TRAINING, TESTING, SPLIT_SIZE):\n",
        "\n",
        "  images = []\n",
        "  for file in os.listdir(SOURCE):\n",
        "    if os.path.getsize(SOURCE + file) == 0:\n",
        "      print(file + ' is zero length, so ignoring.')\n",
        "    else:\n",
        "      images.append(file)\n",
        "\n",
        "  shuffled_images = random.sample(images, len(images))\n",
        "\n",
        "  train_length = int(len(shuffled_images) * SPLIT_SIZE)\n",
        "  train_images = shuffled_images[:train_length]\n",
        "  test_images = shuffled_images[train_length:]\n",
        "  \n",
        "  for file in train_images:\n",
        "    copyfile(SOURCE + file, TRAINING + file)\n",
        "  \n",
        "  for file in test_images:\n",
        "    copyfile(SOURCE + file, TESTING + file)"
      ],
      "metadata": {
        "id": "G2mZAQ0onUP9"
      },
      "execution_count": 8,
      "outputs": []
    },
    {
      "cell_type": "code",
      "source": [
        "CAT_SOURCE_DIR = \"/tmp/PetImages/Cat/\"\n",
        "DOG_SOURCE_DIR = \"/tmp/PetImages/Dog/\"\n",
        "\n",
        "TRAINING_DIR = \"/tmp/cat_vs_dog/training/\"\n",
        "TESTING_DIR = \"/tmp/cat_vs_dog/testing/\"\n",
        "\n",
        "TRAINING_CATS_DIR = os.path.join(TRAINING_DIR, \"cats/\")\n",
        "TESTING_CATS_DIR = os.path.join(TESTING_DIR, \"cats/\")\n",
        "\n",
        "TRAINING_DOGS_DIR = os.path.join(TRAINING_DIR, \"dogs/\")\n",
        "TESTING_DOGS_DIR = os.path.join(TESTING_DIR, \"dogs/\")\n",
        "\n",
        "# Empty directories in case you run this cell multiple times\n",
        "if len(os.listdir(TRAINING_CATS_DIR)) > 0:\n",
        "  for file in os.scandir(TRAINING_CATS_DIR):\n",
        "    os.remove(file.path)\n",
        "if len(os.listdir(TRAINING_DOGS_DIR)) > 0:\n",
        "  for file in os.scandir(TRAINING_DOGS_DIR):\n",
        "    os.remove(file.path)\n",
        "if len(os.listdir(TESTING_CATS_DIR)) > 0:\n",
        "  for file in os.scandir(TESTING_CATS_DIR):\n",
        "    os.remove(file.path)\n",
        "if len(os.listdir(TESTING_DOGS_DIR)) > 0:\n",
        "  for file in os.scandir(TESTING_DOGS_DIR):\n",
        "    os.remove(file.path)\n",
        "\n",
        "split_size = .9\n",
        "\n",
        "split_data(CAT_SOURCE_DIR, TRAINING_CATS_DIR, TESTING_CATS_DIR, split_size)\n",
        "split_data(DOG_SOURCE_DIR, TRAINING_DOGS_DIR, TESTING_DOGS_DIR, split_size)\n",
        "\n",
        "print(f\"\\n\\nThere are {len(os.listdir(TRAINING_CATS_DIR))} images of cats for training\")\n",
        "print(f\"There are {len(os.listdir(TRAINING_DOGS_DIR))} images of dogs for training\")\n",
        "print(f\"There are {len(os.listdir(TESTING_CATS_DIR))} images of cats for testing\")\n",
        "print(f\"There are {len(os.listdir(TESTING_DOGS_DIR))} images of dogs for testing\")"
      ],
      "metadata": {
        "colab": {
          "base_uri": "https://localhost:8080/"
        },
        "id": "bGpjdtHHnqmK",
        "outputId": "b5f0525e-ccb6-4152-b137-0b4efc3b9400"
      },
      "execution_count": 9,
      "outputs": [
        {
          "output_type": "stream",
          "name": "stdout",
          "text": [
            "666.jpg is zero length, so ignoring.\n",
            "11702.jpg is zero length, so ignoring.\n",
            "\n",
            "\n",
            "There are 11250 images of cats for training\n",
            "There are 11250 images of dogs for training\n",
            "There are 1250 images of cats for testing\n",
            "There are 1250 images of dogs for testing\n"
          ]
        }
      ]
    },
    {
      "cell_type": "code",
      "source": [
        "from tensorflow.keras.preprocessing.image import ImageDataGenerator\n",
        "\n",
        "train_datagen = ImageDataGenerator(rescale=1/255,\n",
        "                                   rotation_range=40,\n",
        "                                   width_shift_range=0.2,\n",
        "                                   height_shift_range=0.2,\n",
        "                                   shear_range=0.2,\n",
        "                                   zoom_range=0.2,\n",
        "                                   horizontal_flip=True,\n",
        "                                   fill_mode='nearest')\n",
        "\n",
        "train_generator = train_datagen.flow_from_directory(directory=TRAINING_DIR,\n",
        "                                                    batch_size=20,\n",
        "                                                    class_mode='binary',\n",
        "                                                    target_size=(150, 150))\n",
        "\n",
        "val_datagen = ImageDataGenerator(rescale=1/255)\n",
        "\n",
        "val_generator = val_datagen.flow_from_directory(directory=TESTING_DIR,\n",
        "                                                    batch_size=20,\n",
        "                                                    class_mode='binary',\n",
        "                                                    target_size=(150, 150))"
      ],
      "metadata": {
        "colab": {
          "base_uri": "https://localhost:8080/"
        },
        "id": "K6KPi30_ny7n",
        "outputId": "04089b3b-0c9d-4264-81e4-af2e3a39b6e3"
      },
      "execution_count": 10,
      "outputs": [
        {
          "output_type": "stream",
          "name": "stdout",
          "text": [
            "Found 22498 images belonging to 2 classes.\n",
            "Found 2500 images belonging to 2 classes.\n"
          ]
        }
      ]
    },
    {
      "cell_type": "code",
      "source": [
        "model = tf.keras.models.Sequential([\n",
        "                        tf.keras.layers.Conv2D(32, (3,3), activation='relu', input_shape=(150, 150, 3)),\n",
        "                        tf.keras.layers.MaxPooling2D(2,2),\n",
        "                        tf.keras.layers.Conv2D(64, (3,3), activation='relu', input_shape=(150, 150, 3)),\n",
        "                        tf.keras.layers.MaxPooling2D(2,2),\n",
        "                        tf.keras.layers.Conv2D(128, (3,3), activation='relu', input_shape=(150, 150, 3)),\n",
        "                        tf.keras.layers.MaxPooling2D(2,2),\n",
        "                        tf.keras.layers.Flatten(),\n",
        "                        tf.keras.layers.Dense(128),\n",
        "                        tf.keras.layers.Dense(1, activation='sigmoid')\n",
        "])\n",
        "\n",
        "model.summary()"
      ],
      "metadata": {
        "colab": {
          "base_uri": "https://localhost:8080/"
        },
        "id": "17IM5C5BprNT",
        "outputId": "7c0a4e6f-00e5-432f-bb54-3f41ac27e7f8"
      },
      "execution_count": 11,
      "outputs": [
        {
          "output_type": "stream",
          "name": "stdout",
          "text": [
            "Model: \"sequential\"\n",
            "_________________________________________________________________\n",
            " Layer (type)                Output Shape              Param #   \n",
            "=================================================================\n",
            " conv2d (Conv2D)             (None, 148, 148, 32)      896       \n",
            "                                                                 \n",
            " max_pooling2d (MaxPooling2D  (None, 74, 74, 32)       0         \n",
            " )                                                               \n",
            "                                                                 \n",
            " conv2d_1 (Conv2D)           (None, 72, 72, 64)        18496     \n",
            "                                                                 \n",
            " max_pooling2d_1 (MaxPooling  (None, 36, 36, 64)       0         \n",
            " 2D)                                                             \n",
            "                                                                 \n",
            " conv2d_2 (Conv2D)           (None, 34, 34, 128)       73856     \n",
            "                                                                 \n",
            " max_pooling2d_2 (MaxPooling  (None, 17, 17, 128)      0         \n",
            " 2D)                                                             \n",
            "                                                                 \n",
            " flatten (Flatten)           (None, 36992)             0         \n",
            "                                                                 \n",
            " dense (Dense)               (None, 128)               4735104   \n",
            "                                                                 \n",
            " dense_1 (Dense)             (None, 1)                 129       \n",
            "                                                                 \n",
            "=================================================================\n",
            "Total params: 4,828,481\n",
            "Trainable params: 4,828,481\n",
            "Non-trainable params: 0\n",
            "_________________________________________________________________\n"
          ]
        }
      ]
    },
    {
      "cell_type": "code",
      "source": [
        "model.compile(optimizer='adam',\n",
        "              loss='binary_crossentropy',\n",
        "              metrics=['accuracy'])"
      ],
      "metadata": {
        "id": "j7GYcTGIqhkt"
      },
      "execution_count": 12,
      "outputs": []
    },
    {
      "cell_type": "code",
      "source": [
        "history = model.fit(train_generator,\n",
        "          epochs=15,\n",
        "          validation_data=val_generator)"
      ],
      "metadata": {
        "colab": {
          "base_uri": "https://localhost:8080/"
        },
        "id": "5Z4I25oBqzUD",
        "outputId": "3102dcc4-6768-4d6b-a73a-0bf8f00539c0"
      },
      "execution_count": 13,
      "outputs": [
        {
          "output_type": "stream",
          "name": "stdout",
          "text": [
            "Epoch 1/15\n",
            "  43/1125 [>.............................] - ETA: 3:39 - loss: 0.8933 - accuracy: 0.5233"
          ]
        },
        {
          "output_type": "stream",
          "name": "stderr",
          "text": [
            "/usr/local/lib/python3.7/dist-packages/PIL/TiffImagePlugin.py:770: UserWarning: Possibly corrupt EXIF data.  Expecting to read 32 bytes but only got 0. Skipping tag 270\n",
            "  \" Skipping tag %s\" % (size, len(data), tag)\n",
            "/usr/local/lib/python3.7/dist-packages/PIL/TiffImagePlugin.py:770: UserWarning: Possibly corrupt EXIF data.  Expecting to read 5 bytes but only got 0. Skipping tag 271\n",
            "  \" Skipping tag %s\" % (size, len(data), tag)\n",
            "/usr/local/lib/python3.7/dist-packages/PIL/TiffImagePlugin.py:770: UserWarning: Possibly corrupt EXIF data.  Expecting to read 8 bytes but only got 0. Skipping tag 272\n",
            "  \" Skipping tag %s\" % (size, len(data), tag)\n",
            "/usr/local/lib/python3.7/dist-packages/PIL/TiffImagePlugin.py:770: UserWarning: Possibly corrupt EXIF data.  Expecting to read 8 bytes but only got 0. Skipping tag 282\n",
            "  \" Skipping tag %s\" % (size, len(data), tag)\n",
            "/usr/local/lib/python3.7/dist-packages/PIL/TiffImagePlugin.py:770: UserWarning: Possibly corrupt EXIF data.  Expecting to read 8 bytes but only got 0. Skipping tag 283\n",
            "  \" Skipping tag %s\" % (size, len(data), tag)\n",
            "/usr/local/lib/python3.7/dist-packages/PIL/TiffImagePlugin.py:770: UserWarning: Possibly corrupt EXIF data.  Expecting to read 20 bytes but only got 0. Skipping tag 306\n",
            "  \" Skipping tag %s\" % (size, len(data), tag)\n",
            "/usr/local/lib/python3.7/dist-packages/PIL/TiffImagePlugin.py:770: UserWarning: Possibly corrupt EXIF data.  Expecting to read 48 bytes but only got 0. Skipping tag 532\n",
            "  \" Skipping tag %s\" % (size, len(data), tag)\n",
            "/usr/local/lib/python3.7/dist-packages/PIL/TiffImagePlugin.py:788: UserWarning: Corrupt EXIF data.  Expecting to read 2 bytes but only got 0. \n",
            "  warnings.warn(str(msg))\n"
          ]
        },
        {
          "output_type": "stream",
          "name": "stdout",
          "text": [
            "1125/1125 [==============================] - 189s 163ms/step - loss: 0.6943 - accuracy: 0.5471 - val_loss: 0.6701 - val_accuracy: 0.5804\n",
            "Epoch 2/15\n",
            "1125/1125 [==============================] - 177s 157ms/step - loss: 0.6786 - accuracy: 0.5729 - val_loss: 0.6353 - val_accuracy: 0.6552\n",
            "Epoch 3/15\n",
            "1125/1125 [==============================] - 176s 157ms/step - loss: 0.6441 - accuracy: 0.6401 - val_loss: 0.5794 - val_accuracy: 0.7188\n",
            "Epoch 4/15\n",
            "1125/1125 [==============================] - 176s 157ms/step - loss: 0.5945 - accuracy: 0.6832 - val_loss: 0.4987 - val_accuracy: 0.7664\n",
            "Epoch 5/15\n",
            "1125/1125 [==============================] - 175s 156ms/step - loss: 0.5544 - accuracy: 0.7185 - val_loss: 0.4751 - val_accuracy: 0.7852\n",
            "Epoch 6/15\n",
            "1125/1125 [==============================] - 190s 168ms/step - loss: 0.5333 - accuracy: 0.7340 - val_loss: 0.4428 - val_accuracy: 0.7944\n",
            "Epoch 7/15\n",
            "1125/1125 [==============================] - 179s 159ms/step - loss: 0.5153 - accuracy: 0.7443 - val_loss: 0.4621 - val_accuracy: 0.7872\n",
            "Epoch 8/15\n",
            "1125/1125 [==============================] - 178s 158ms/step - loss: 0.5037 - accuracy: 0.7544 - val_loss: 0.4437 - val_accuracy: 0.7948\n",
            "Epoch 9/15\n",
            "1125/1125 [==============================] - 195s 173ms/step - loss: 0.4902 - accuracy: 0.7646 - val_loss: 0.4014 - val_accuracy: 0.8236\n",
            "Epoch 10/15\n",
            "1125/1125 [==============================] - 178s 158ms/step - loss: 0.4768 - accuracy: 0.7710 - val_loss: 0.4731 - val_accuracy: 0.7852\n",
            "Epoch 11/15\n",
            "1125/1125 [==============================] - 174s 155ms/step - loss: 0.4657 - accuracy: 0.7783 - val_loss: 0.4479 - val_accuracy: 0.8060\n",
            "Epoch 12/15\n",
            "1125/1125 [==============================] - 184s 163ms/step - loss: 0.4579 - accuracy: 0.7865 - val_loss: 0.4057 - val_accuracy: 0.8288\n",
            "Epoch 13/15\n",
            "1125/1125 [==============================] - 178s 158ms/step - loss: 0.4454 - accuracy: 0.7911 - val_loss: 0.3766 - val_accuracy: 0.8408\n",
            "Epoch 14/15\n",
            "1125/1125 [==============================] - 179s 159ms/step - loss: 0.4284 - accuracy: 0.8052 - val_loss: 0.4565 - val_accuracy: 0.8044\n",
            "Epoch 15/15\n",
            "1125/1125 [==============================] - 177s 157ms/step - loss: 0.4215 - accuracy: 0.8065 - val_loss: 0.3850 - val_accuracy: 0.8356\n"
          ]
        }
      ]
    },
    {
      "cell_type": "code",
      "source": [
        "# 11250 color training images, with augmentation\n",
        "# 3 Conv - MaxPooling layers\n",
        "# 15 epochs\n",
        "# Training time:  ~ 45 min\n",
        "# Final Train/val accuracy: 0.81 / 0.84"
      ],
      "metadata": {
        "id": "Z2NrJFH04dsD"
      },
      "execution_count": null,
      "outputs": []
    },
    {
      "cell_type": "code",
      "source": [
        "import matplotlib.pyplot as plt\n",
        "\n",
        "def create_val_plot(model_history):\n",
        "        \n",
        "    model_history = model_history.history\n",
        "\n",
        "    # Training and validation loss plot\n",
        "    loss_values = model_history['loss']\n",
        "    val_loss_values = model_history['val_loss']\n",
        "\n",
        "    epochs = range(1, len(loss_values) + 1)\n",
        "    \n",
        "    plt.figure()\n",
        "    plt.plot(epochs, loss_values, 'bo', label='Training Loss')\n",
        "    plt.plot(epochs, val_loss_values, 'b', label='Validation Loss')\n",
        "    plt.title('Training and Validation Loss')\n",
        "    plt.xlabel('Epochs')\n",
        "    plt.ylabel('Loss')\n",
        "    plt.legend()\n",
        "        \n",
        "    # Training and validation accuracy plot\n",
        "    acc = model_history['accuracy']\n",
        "    val_acc = model_history['val_accuracy']\n",
        "\n",
        "    epochs = range(1, len(acc) + 1)\n",
        "    \n",
        "    plt.figure()\n",
        "    plt.plot(epochs, acc, 'bo', label='Training Accuracy')\n",
        "    plt.plot(epochs, val_acc, 'b', label='Validation Accuracy')\n",
        "    plt.title('Training and Validation Accuracy')\n",
        "    plt.xlabel('Epochs')\n",
        "    plt.ylabel('Accuracy')\n",
        "    plt.legend()"
      ],
      "metadata": {
        "id": "k3NoMUJSrAB9"
      },
      "execution_count": 16,
      "outputs": []
    },
    {
      "cell_type": "code",
      "source": [
        "create_val_plot(history)"
      ],
      "metadata": {
        "colab": {
          "base_uri": "https://localhost:8080/",
          "height": 573
        },
        "id": "DnI3Ss6JrwH0",
        "outputId": "9c7e3181-ae22-430e-a273-648f1f9b5c01"
      },
      "execution_count": 17,
      "outputs": [
        {
          "output_type": "display_data",
          "data": {
            "text/plain": [
              "<Figure size 432x288 with 1 Axes>"
            ],
            "image/png": "[encoded data removed]"
          },
          "metadata": {
            "needs_background": "light"
          }
        },
        {
          "output_type": "display_data",
          "data": {
            "text/plain": [
              "<Figure size 432x288 with 1 Axes>"
            ],
            "image/png": "[encoded data removed]"
          },
          "metadata": {
            "needs_background": "light"
          }
        }
      ]
    },
    {
      "cell_type": "code",
      "source": [
        "model.save('cnn_catsvsdogs.h5')"
      ],
      "metadata": {
        "id": "o-UZva4frxiK"
      },
      "execution_count": 18,
      "outputs": []
    },
    {
      "cell_type": "code",
      "source": [
        "import os\n",
        "\n",
        "def check_model_size(model_path, print_size=True):\n",
        "    # # Get file size in bytes for a given model\n",
        "    size = os.stat(model_path).st_size\n",
        "    if print_size == True:\n",
        "        print('Model size in bytes ', size)\n",
        "    else:\n",
        "        return size\n",
        "\n",
        "check_model_size('cnn_catsvsdogs.h5')"
      ],
      "metadata": {
        "colab": {
          "base_uri": "https://localhost:8080/"
        },
        "id": "tu3UPtFQsu1Z",
        "outputId": "d319e531-c833-43c6-e94f-0ea9318cf215"
      },
      "execution_count": 19,
      "outputs": [
        {
          "output_type": "stream",
          "name": "stdout",
          "text": [
            "Model size in bytes  57996920\n"
          ]
        }
      ]
    },
    {
      "cell_type": "code",
      "source": [
        "import pandas as pd\n",
        "\n",
        "def save_training_history(history, filename='model_training_history.csv'):\n",
        "  history_dict = pd.DataFrame(history.history)\n",
        "  history_dict.to_csv(filename)\n",
        "\n",
        "save_training_history(history)"
      ],
      "metadata": {
        "id": "1Ge_UAjX6S8-"
      },
      "execution_count": 24,
      "outputs": []
    },
    {
      "cell_type": "code",
      "source": [
        "from tensorflow.keras.preprocessing import image\n",
        "\n",
        "test_img = 'cat.jpg'\n",
        "\n",
        "img = image.load_img(test_img, target_size = (150, 150))\n",
        "img = image.img_to_array(img)\n",
        "print('img shape: ', img.shape)\n",
        "\n",
        "img = img / 255\n",
        "img = np.expand_dims(img, axis = 0)\n",
        "print('model input shape: ', img.shape)\n",
        "\n",
        "prediction = model.predict(img)\n",
        "print('Model predicted probability: ', prediction)\n",
        "if prediction <= 0.5:\n",
        "  print('Image is a cat')\n",
        "else:\n",
        "  print('Image is a dog')"
      ],
      "metadata": {
        "colab": {
          "base_uri": "https://localhost:8080/"
        },
        "id": "wZtk_vHh7qUA",
        "outputId": "40fb98b8-bef5-41d6-c547-cc2c2a900f01"
      },
      "execution_count": 37,
      "outputs": [
        {
          "output_type": "stream",
          "name": "stdout",
          "text": [
            "img shape:  (150, 150, 3)\n",
            "model input shape:  (1, 150, 150, 3)\n",
            "Model predicted probability:  [[0.09621428]]\n",
            "Image is a cat\n"
          ]
        }
      ]
    },
    {
      "cell_type": "code",
      "source": [
        ""
      ],
      "metadata": {
        "id": "N06uSYSIB3w2"
      },
      "execution_count": null,
      "outputs": []
    }
  ]
}