{
  "nbformat": 4,
  "nbformat_minor": 0,
  "metadata": {
    "colab": {
      "name": "CNN_flowers_dataset-from-dir.ipynb",
      "provenance": [],
      "collapsed_sections": []
    },
    "kernelspec": {
      "name": "python3",
      "display_name": "Python 3"
    },
    "language_info": {
      "name": "python"
    },
    "accelerator": "GPU"
  },
  "cells": [
    {
      "cell_type": "code",
      "source": [
        "# https://www.tensorflow.org/tutorials/images/classification"
      ],
      "metadata": {
        "id": "0_FrcxzU3s0-"
      },
      "execution_count": 25,
      "outputs": []
    },
    {
      "cell_type": "code",
      "execution_count": 1,
      "metadata": {
        "id": "EzdD1hIOw2uO"
      },
      "outputs": [],
      "source": [
        "import numpy as np\n",
        "import tensorflow as tf"
      ]
    },
    {
      "cell_type": "code",
      "source": [
        "import pathlib\n",
        "dataset_url = \"https://storage.googleapis.com/download.tensorflow.org/example_images/flower_photos.tgz\"\n",
        "data_dir = tf.keras.utils.get_file('flower_photos', origin=dataset_url, untar=True)\n",
        "data_dir = pathlib.Path(data_dir)"
      ],
      "metadata": {
        "colab": {
          "base_uri": "https://localhost:8080/"
        },
        "id": "WyLVc_I6w-9E",
        "outputId": "9881064e-51f8-41ca-a8e8-7c8543f64db7"
      },
      "execution_count": 2,
      "outputs": [
        {
          "output_type": "stream",
          "name": "stdout",
          "text": [
            "Downloading data from https://storage.googleapis.com/download.tensorflow.org/example_images/flower_photos.tgz\n",
            "228818944/228813984 [==============================] - 6s 0us/step\n",
            "228827136/228813984 [==============================] - 6s 0us/step\n"
          ]
        }
      ]
    },
    {
      "cell_type": "code",
      "source": [
        "image_count = len(list(data_dir.glob('*/*.jpg')))\n",
        "print(image_count)"
      ],
      "metadata": {
        "colab": {
          "base_uri": "https://localhost:8080/"
        },
        "id": "_Si7wlK-xGf6",
        "outputId": "6685035d-7cb2-481a-fe94-7832aef28881"
      },
      "execution_count": 3,
      "outputs": [
        {
          "output_type": "stream",
          "name": "stdout",
          "text": [
            "3670\n"
          ]
        }
      ]
    },
    {
      "cell_type": "code",
      "source": [
        "batch_size = 32\n",
        "image_height = 150\n",
        "image_width = 150"
      ],
      "metadata": {
        "id": "Xgj42DiHxmFo"
      },
      "execution_count": 4,
      "outputs": []
    },
    {
      "cell_type": "code",
      "source": [
        "train_ds = tf.keras.utils.image_dataset_from_directory(data_dir,\n",
        "                                                       validation_split=0.2,\n",
        "                                                       subset='training',\n",
        "                                                       seed=123,\n",
        "                                                       image_size=(image_height, image_width),\n",
        "                                                       batch_size=batch_size)"
      ],
      "metadata": {
        "colab": {
          "base_uri": "https://localhost:8080/"
        },
        "id": "zEPNh_RRx3zy",
        "outputId": "ed5179b8-ee8e-4c31-c9c1-e4c93d0a0615"
      },
      "execution_count": 6,
      "outputs": [
        {
          "output_type": "stream",
          "name": "stdout",
          "text": [
            "Found 3670 files belonging to 5 classes.\n",
            "Using 2936 files for training.\n"
          ]
        }
      ]
    },
    {
      "cell_type": "code",
      "source": [
        "val_ds = tf.keras.utils.image_dataset_from_directory(data_dir,\n",
        "                                                       validation_split=0.2,\n",
        "                                                       subset='validation',\n",
        "                                                       seed=123,\n",
        "                                                       image_size=(image_height, image_width),\n",
        "                                                       batch_size=batch_size)"
      ],
      "metadata": {
        "colab": {
          "base_uri": "https://localhost:8080/"
        },
        "id": "b6rgdYspx8gQ",
        "outputId": "1fe02b1e-6656-479a-f45a-df4e8ae3d754"
      },
      "execution_count": 9,
      "outputs": [
        {
          "output_type": "stream",
          "name": "stdout",
          "text": [
            "Found 3670 files belonging to 5 classes.\n",
            "Using 734 files for validation.\n"
          ]
        }
      ]
    },
    {
      "cell_type": "code",
      "source": [
        "class_names = train_ds.class_names\n",
        "print(class_names)"
      ],
      "metadata": {
        "colab": {
          "base_uri": "https://localhost:8080/"
        },
        "id": "Q8q4Rx_yyZTz",
        "outputId": "3a0a73ef-3d76-4e4b-efbf-8f48a3dcd9ac"
      },
      "execution_count": 11,
      "outputs": [
        {
          "output_type": "stream",
          "name": "stdout",
          "text": [
            "['daisy', 'dandelion', 'roses', 'sunflowers', 'tulips']\n"
          ]
        }
      ]
    },
    {
      "cell_type": "code",
      "source": [
        "train_ds"
      ],
      "metadata": {
        "colab": {
          "base_uri": "https://localhost:8080/"
        },
        "id": "DtdCwwxfzHf2",
        "outputId": "ed2aab5c-b8b1-4c23-91ce-881ac2be00ce"
      },
      "execution_count": 15,
      "outputs": [
        {
          "output_type": "execute_result",
          "data": {
            "text/plain": [
              "<BatchDataset element_spec=(TensorSpec(shape=(None, 150, 150, 3), dtype=tf.float32, name=None), TensorSpec(shape=(None,), dtype=tf.int32, name=None))>"
            ]
          },
          "metadata": {},
          "execution_count": 15
        }
      ]
    },
    {
      "cell_type": "code",
      "source": [
        "for image_batch, label_batch in train_ds:\n",
        "  print(image_batch.shape)\n",
        "  print(label_batch.shape)\n",
        "  break"
      ],
      "metadata": {
        "colab": {
          "base_uri": "https://localhost:8080/"
        },
        "id": "wK7UylUvytdo",
        "outputId": "2bda0350-3b04-432c-e64d-7078d8a6754a"
      },
      "execution_count": 14,
      "outputs": [
        {
          "output_type": "stream",
          "name": "stdout",
          "text": [
            "(32, 150, 150, 3)\n",
            "(32,)\n"
          ]
        }
      ]
    },
    {
      "cell_type": "code",
      "source": [
        "model = tf.keras.models.Sequential([\n",
        "        tf.keras.layers.Rescaling(1/255, input_shape=(150, 150, 3)),\n",
        "        tf.keras.layers.Conv2D(32, (3,3), activation='relu'),\n",
        "        tf.keras.layers.MaxPooling2D(2,2),\n",
        "        tf.keras.layers.Conv2D(64, (3,3), activation='relu'),\n",
        "        tf.keras.layers.MaxPooling2D(2,2),\n",
        "        tf.keras.layers.Flatten(),\n",
        "        tf.keras.layers.Dense(256, activation='relu'),\n",
        "        tf.keras.layers.Dense(5, activation='softmax')\n",
        "])\n",
        "\n",
        "model.summary()"
      ],
      "metadata": {
        "colab": {
          "base_uri": "https://localhost:8080/"
        },
        "id": "kNs7-l34y5gS",
        "outputId": "81d97a7e-1815-47a4-d895-613ab1789958"
      },
      "execution_count": 16,
      "outputs": [
        {
          "output_type": "stream",
          "name": "stdout",
          "text": [
            "Model: \"sequential\"\n",
            "_________________________________________________________________\n",
            " Layer (type)                Output Shape              Param #   \n",
            "=================================================================\n",
            " rescaling (Rescaling)       (None, 150, 150, 3)       0         \n",
            "                                                                 \n",
            " conv2d (Conv2D)             (None, 148, 148, 32)      896       \n",
            "                                                                 \n",
            " max_pooling2d (MaxPooling2D  (None, 74, 74, 32)       0         \n",
            " )                                                               \n",
            "                                                                 \n",
            " conv2d_1 (Conv2D)           (None, 72, 72, 64)        18496     \n",
            "                                                                 \n",
            " max_pooling2d_1 (MaxPooling  (None, 36, 36, 64)       0         \n",
            " 2D)                                                             \n",
            "                                                                 \n",
            " flatten (Flatten)           (None, 82944)             0         \n",
            "                                                                 \n",
            " dense (Dense)               (None, 256)               21233920  \n",
            "                                                                 \n",
            " dense_1 (Dense)             (None, 5)                 1285      \n",
            "                                                                 \n",
            "=================================================================\n",
            "Total params: 21,254,597\n",
            "Trainable params: 21,254,597\n",
            "Non-trainable params: 0\n",
            "_________________________________________________________________\n"
          ]
        }
      ]
    },
    {
      "cell_type": "code",
      "source": [
        "model.compile(optimizer='adam',\n",
        "              loss='sparse_categorical_crossentropy',\n",
        "              metrics=['accuracy'])"
      ],
      "metadata": {
        "id": "QX81Vtq90QRw"
      },
      "execution_count": 17,
      "outputs": []
    },
    {
      "cell_type": "code",
      "source": [
        "history = model.fit(train_ds,\n",
        "                    validation_data=val_ds,\n",
        "                    epochs=10)"
      ],
      "metadata": {
        "colab": {
          "base_uri": "https://localhost:8080/"
        },
        "id": "Pr9EGDrO0c6U",
        "outputId": "57dfe475-e3ae-4d33-ddb4-383a60f0d074"
      },
      "execution_count": 18,
      "outputs": [
        {
          "output_type": "stream",
          "name": "stdout",
          "text": [
            "Epoch 1/10\n",
            "92/92 [==============================] - 18s 90ms/step - loss: 1.6101 - accuracy: 0.3699 - val_loss: 1.1749 - val_accuracy: 0.5245\n",
            "Epoch 2/10\n",
            "92/92 [==============================] - 8s 84ms/step - loss: 1.0298 - accuracy: 0.5947 - val_loss: 1.0189 - val_accuracy: 0.6117\n",
            "Epoch 3/10\n",
            "92/92 [==============================] - 8s 84ms/step - loss: 0.7006 - accuracy: 0.7466 - val_loss: 1.0142 - val_accuracy: 0.6390\n",
            "Epoch 4/10\n",
            "92/92 [==============================] - 8s 86ms/step - loss: 0.3367 - accuracy: 0.8862 - val_loss: 1.1725 - val_accuracy: 0.6076\n",
            "Epoch 5/10\n",
            "92/92 [==============================] - 8s 83ms/step - loss: 0.1769 - accuracy: 0.9482 - val_loss: 1.3605 - val_accuracy: 0.6199\n",
            "Epoch 6/10\n",
            "92/92 [==============================] - 8s 84ms/step - loss: 0.1007 - accuracy: 0.9724 - val_loss: 1.5348 - val_accuracy: 0.6308\n",
            "Epoch 7/10\n",
            "92/92 [==============================] - 8s 84ms/step - loss: 0.0528 - accuracy: 0.9881 - val_loss: 1.6014 - val_accuracy: 0.5940\n",
            "Epoch 8/10\n",
            "92/92 [==============================] - 8s 86ms/step - loss: 0.0396 - accuracy: 0.9928 - val_loss: 1.6867 - val_accuracy: 0.6158\n",
            "Epoch 9/10\n",
            "92/92 [==============================] - 8s 84ms/step - loss: 0.0298 - accuracy: 0.9942 - val_loss: 1.9059 - val_accuracy: 0.5872\n",
            "Epoch 10/10\n",
            "92/92 [==============================] - 8s 83ms/step - loss: 0.0326 - accuracy: 0.9925 - val_loss: 2.1867 - val_accuracy: 0.6022\n"
          ]
        }
      ]
    },
    {
      "cell_type": "code",
      "source": [
        "data_augmentation = tf.keras.models.Sequential([\n",
        "                    tf.keras.layers.RandomFlip('horizontal', input_shape=(image_height, image_width, 3)),\n",
        "                    tf.keras.layers.RandomRotation(0.1),\n",
        "                    tf.keras.layers.RandomZoom(0.1)\n",
        "])\n",
        "\n",
        "model = tf.keras.models.Sequential([\n",
        "        data_augmentation,\n",
        "        tf.keras.layers.Rescaling(1/255),\n",
        "        tf.keras.layers.Conv2D(32, (3,3), activation='relu'),\n",
        "        tf.keras.layers.MaxPooling2D(2,2),\n",
        "        tf.keras.layers.Conv2D(64, (3,3), activation='relu'),\n",
        "        tf.keras.layers.MaxPooling2D(2,2),\n",
        "        tf.keras.layers.Flatten(),\n",
        "        tf.keras.layers.Dropout(0.3),\n",
        "        tf.keras.layers.Dense(256, activation='relu'),\n",
        "        tf.keras.layers.Dense(5, activation='softmax')\n",
        "])\n",
        "\n",
        "model.summary()"
      ],
      "metadata": {
        "colab": {
          "base_uri": "https://localhost:8080/"
        },
        "id": "j7OooN-60ljk",
        "outputId": "397c7493-f871-41c1-8926-68b2d207a971"
      },
      "execution_count": 19,
      "outputs": [
        {
          "output_type": "stream",
          "name": "stdout",
          "text": [
            "Model: \"sequential_2\"\n",
            "_________________________________________________________________\n",
            " Layer (type)                Output Shape              Param #   \n",
            "=================================================================\n",
            " sequential_1 (Sequential)   (None, 150, 150, 3)       0         \n",
            "                                                                 \n",
            " rescaling_1 (Rescaling)     (None, 150, 150, 3)       0         \n",
            "                                                                 \n",
            " conv2d_2 (Conv2D)           (None, 148, 148, 32)      896       \n",
            "                                                                 \n",
            " max_pooling2d_2 (MaxPooling  (None, 74, 74, 32)       0         \n",
            " 2D)                                                             \n",
            "                                                                 \n",
            " conv2d_3 (Conv2D)           (None, 72, 72, 64)        18496     \n",
            "                                                                 \n",
            " max_pooling2d_3 (MaxPooling  (None, 36, 36, 64)       0         \n",
            " 2D)                                                             \n",
            "                                                                 \n",
            " flatten_1 (Flatten)         (None, 82944)             0         \n",
            "                                                                 \n",
            " dropout (Dropout)           (None, 82944)             0         \n",
            "                                                                 \n",
            " dense_2 (Dense)             (None, 256)               21233920  \n",
            "                                                                 \n",
            " dense_3 (Dense)             (None, 5)                 1285      \n",
            "                                                                 \n",
            "=================================================================\n",
            "Total params: 21,254,597\n",
            "Trainable params: 21,254,597\n",
            "Non-trainable params: 0\n",
            "_________________________________________________________________\n"
          ]
        }
      ]
    },
    {
      "cell_type": "code",
      "source": [
        "model.compile(optimizer='adam',\n",
        "              loss='sparse_categorical_crossentropy',\n",
        "              metrics=['accuracy'])"
      ],
      "metadata": {
        "id": "TPTcAjY_12rP"
      },
      "execution_count": 20,
      "outputs": []
    },
    {
      "cell_type": "code",
      "source": [
        "history = model.fit(train_ds,\n",
        "                    validation_data=val_ds,\n",
        "                    epochs=20)"
      ],
      "metadata": {
        "colab": {
          "base_uri": "https://localhost:8080/"
        },
        "id": "DvlYKdQV2CFY",
        "outputId": "e949a7f1-540b-4246-b257-4c85d4f7a33a"
      },
      "execution_count": 21,
      "outputs": [
        {
          "output_type": "stream",
          "name": "stdout",
          "text": [
            "Epoch 1/20\n",
            "92/92 [==============================] - 10s 83ms/step - loss: 1.7608 - accuracy: 0.4121 - val_loss: 1.1802 - val_accuracy: 0.5163\n",
            "Epoch 2/20\n",
            "92/92 [==============================] - 8s 79ms/step - loss: 1.1146 - accuracy: 0.5569 - val_loss: 1.0683 - val_accuracy: 0.5926\n",
            "Epoch 3/20\n",
            "92/92 [==============================] - 8s 83ms/step - loss: 1.0074 - accuracy: 0.6012 - val_loss: 0.9462 - val_accuracy: 0.6281\n",
            "Epoch 4/20\n",
            "92/92 [==============================] - 8s 82ms/step - loss: 0.9399 - accuracy: 0.6318 - val_loss: 0.9264 - val_accuracy: 0.6294\n",
            "Epoch 5/20\n",
            "92/92 [==============================] - 8s 81ms/step - loss: 0.8702 - accuracy: 0.6696 - val_loss: 0.8752 - val_accuracy: 0.6362\n",
            "Epoch 6/20\n",
            "92/92 [==============================] - 8s 83ms/step - loss: 0.8338 - accuracy: 0.6832 - val_loss: 0.9272 - val_accuracy: 0.6431\n",
            "Epoch 7/20\n",
            "92/92 [==============================] - 8s 83ms/step - loss: 0.7668 - accuracy: 0.6999 - val_loss: 0.9521 - val_accuracy: 0.6471\n",
            "Epoch 8/20\n",
            "92/92 [==============================] - 8s 82ms/step - loss: 0.7563 - accuracy: 0.7091 - val_loss: 0.9190 - val_accuracy: 0.6431\n",
            "Epoch 9/20\n",
            "92/92 [==============================] - 8s 83ms/step - loss: 0.7226 - accuracy: 0.7187 - val_loss: 0.8689 - val_accuracy: 0.6689\n",
            "Epoch 10/20\n",
            "92/92 [==============================] - 8s 87ms/step - loss: 0.7082 - accuracy: 0.7302 - val_loss: 0.8585 - val_accuracy: 0.6689\n",
            "Epoch 11/20\n",
            "92/92 [==============================] - 8s 83ms/step - loss: 0.6712 - accuracy: 0.7435 - val_loss: 0.8376 - val_accuracy: 0.6812\n",
            "Epoch 12/20\n",
            "92/92 [==============================] - 8s 83ms/step - loss: 0.6717 - accuracy: 0.7422 - val_loss: 0.8898 - val_accuracy: 0.6471\n",
            "Epoch 13/20\n",
            "92/92 [==============================] - 8s 84ms/step - loss: 0.6283 - accuracy: 0.7609 - val_loss: 0.9196 - val_accuracy: 0.6580\n",
            "Epoch 14/20\n",
            "92/92 [==============================] - 8s 84ms/step - loss: 0.6074 - accuracy: 0.7752 - val_loss: 0.7901 - val_accuracy: 0.6989\n",
            "Epoch 15/20\n",
            "92/92 [==============================] - 8s 83ms/step - loss: 0.5975 - accuracy: 0.7667 - val_loss: 0.7382 - val_accuracy: 0.7003\n",
            "Epoch 16/20\n",
            "92/92 [==============================] - 8s 81ms/step - loss: 0.5619 - accuracy: 0.7837 - val_loss: 0.7732 - val_accuracy: 0.7112\n",
            "Epoch 17/20\n",
            "92/92 [==============================] - 8s 82ms/step - loss: 0.5423 - accuracy: 0.7950 - val_loss: 0.8197 - val_accuracy: 0.7139\n",
            "Epoch 18/20\n",
            "92/92 [==============================] - 8s 82ms/step - loss: 0.5438 - accuracy: 0.7963 - val_loss: 0.8504 - val_accuracy: 0.6894\n",
            "Epoch 19/20\n",
            "92/92 [==============================] - 8s 81ms/step - loss: 0.5271 - accuracy: 0.8031 - val_loss: 0.8054 - val_accuracy: 0.7016\n",
            "Epoch 20/20\n",
            "92/92 [==============================] - 8s 84ms/step - loss: 0.4917 - accuracy: 0.8222 - val_loss: 0.8021 - val_accuracy: 0.7030\n"
          ]
        }
      ]
    },
    {
      "cell_type": "code",
      "source": [
        "model.save('flowers_dataset.h5')"
      ],
      "metadata": {
        "id": "5ASdLKgW2ExY"
      },
      "execution_count": 22,
      "outputs": []
    },
    {
      "cell_type": "code",
      "source": [
        "sunflower_url = \"https://storage.googleapis.com/download.tensorflow.org/example_images/592px-Red_sunflower.jpg\"\n",
        "sunflower_path = tf.keras.utils.get_file('Red_sunflower', origin=sunflower_url)\n",
        "\n",
        "img = tf.keras.utils.load_img(\n",
        "    sunflower_path, target_size=(image_height, image_width)\n",
        ")\n",
        "img_array = tf.keras.utils.img_to_array(img)\n",
        "img_array = tf.expand_dims(img_array, 0) # Create a batch\n",
        "\n",
        "predictions = model.predict(img_array)\n",
        "score = tf.nn.softmax(predictions[0])\n",
        "\n",
        "print(\n",
        "    \"This image most likely belongs to {} with a {:.2f} percent confidence.\"\n",
        "    .format(class_names[np.argmax(score)], 100 * np.max(score))\n",
        ")"
      ],
      "metadata": {
        "colab": {
          "base_uri": "https://localhost:8080/"
        },
        "id": "CHUW6y0n3Ge3",
        "outputId": "3892b917-6e32-463f-f9ac-8c350cb54a8f"
      },
      "execution_count": 24,
      "outputs": [
        {
          "output_type": "stream",
          "name": "stdout",
          "text": [
            "This image most likely belongs to sunflowers with a 35.82 percent confidence.\n"
          ]
        }
      ]
    },
    {
      "cell_type": "code",
      "source": [
        ""
      ],
      "metadata": {
        "id": "Tc2ld7KU3Uk3"
      },
      "execution_count": null,
      "outputs": []
    }
  ]
}